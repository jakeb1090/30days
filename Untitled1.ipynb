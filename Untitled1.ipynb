{
 "cells": [
  {
   "cell_type": "code",
   "execution_count": 97,
   "metadata": {},
   "outputs": [],
   "source": [
    "import pandas as pd\n",
    "import requests\n",
    "import os\n",
    "import datetime\n",
    "# file_path = os.path.abspath(__file__)\n",
    "cwd = os.getcwd()\n",
    "DATADIR = os.path.dirname(cwd)\n",
    "filename = os.path.join('dataset.csv', DATADIR)"
   ]
  },
  {
   "cell_type": "code",
   "execution_count": 98,
   "metadata": {},
   "outputs": [],
   "source": [
    "url = 'https://www.phoenixopendata.com/dataset/cc08aace-9ca9-467f-b6c1-f0879ab1a358/resource/0ce3411a-2fc6-4302-a33f-167f68608a20/download/crimestat.csv'\n",
    "def clean_data(url):\n",
    "    df = pd.read_csv(url, low_memory=False, parse_dates=True)\n",
    "    df = df.dropna()\n",
    "    df = df.tail(200)\n",
    "    df.columns = df.columns.str.lower()\n",
    "    df.columns = df.columns.str.replace(' ', '_')\n",
    "    df.occurred_on = df.occurred_on.fillna('')\n",
    "    df.premise_type = df.premise_type.fillna('')\n",
    "    df.occurred_on = pd.to_datetime(df.occurred_on)\n",
    "    df = df.drop(['occurred_to'], axis=1)\n",
    "    df['100_block_addr'] = df['100_block_addr'].apply(lambda x: x.replace('XX', '00'))\n",
    "    df.rename(columns = {\"100_block_addr\": \"approx_address\"}, inplace=True)\n",
    "    df['year'] = (df.occurred_on.dt.year).astype(int)\n",
    "    df['month'] = (df.occurred_on.dt.month).astype(int)\n",
    "    df['day'] = (df.occurred_on.dt.day).astype(int)\n",
    "    df['hour'] = (df.occurred_on.dt.hour).astype(int)\n",
    "    df['day_name'] = df.occurred_on.dt.day_name()\n",
    "    return df"
   ]
  },
  {
   "cell_type": "code",
   "execution_count": 99,
   "metadata": {},
   "outputs": [
    {
     "output_type": "execute_result",
     "data": {
      "text/plain": "             inc_number         occurred_on   ucr_crime_category  \\\n315689  202000001450444 2020-09-02 17:31:00   AGGRAVATED ASSAULT   \n315690  202000001450454 2020-09-02 17:33:00        LARCENY-THEFT   \n315693  202000001450585 2020-09-02 17:55:00             BURGLARY   \n315694  202000001454244 2020-09-02 18:00:00        LARCENY-THEFT   \n315695  202000001452783 2020-09-02 18:00:00             BURGLARY   \n...                 ...                 ...                  ...   \n316028  202000001463110 2020-09-04 21:30:00        LARCENY-THEFT   \n316032  202000001466504 2020-09-04 22:45:00             BURGLARY   \n316033  202000001465121 2020-09-04 23:00:00        LARCENY-THEFT   \n316035     202080005914 2020-09-04 23:15:00        LARCENY-THEFT   \n316038  202000001470900 2020-09-04 23:30:00  MOTOR VEHICLE THEFT   \n\n               approx_address      zip            premise_type  year  month  \\\n315689        9200 N 19TH AVE  85021.0               APARTMENT  2020      9   \n315690         2600 N 27TH ST  85008.0             PARKING LOT  2020      9   \n315693     1500 W WILLETTA ST  85007.0     SINGLE FAMILY HOUSE  2020      9   \n315694        16800 N 14TH ST  85022.0       CONDO / TOWNHOUSE  2020      9   \n315695    3100 E GLENROSA AVE  85016.0       CONDO / TOWNHOUSE  2020      9   \n...                       ...      ...                     ...   ...    ...   \n316028         2700 W BELL RD  85053.0  GROCERY / SUPER MARKET  2020      9   \n316032    2500 W MARYLAND AVE  85017.0               APARTMENT  2020      9   \n316033     2200 W ST ANNE AVE  85041.0     SINGLE FAMILY HOUSE  2020      9   \n316035  13200 N SCOTTSDALE RD  85254.0   GAS / SERVICE STATION  2020      9   \n316038     1100 E MCDOWELL RD  85006.0                 VEHICLE  2020      9   \n\n        day  hour   day_name  \n315689    2    17  Wednesday  \n315690    2    17  Wednesday  \n315693    2    17  Wednesday  \n315694    2    18  Wednesday  \n315695    2    18  Wednesday  \n...     ...   ...        ...  \n316028    4    21     Friday  \n316032    4    22     Friday  \n316033    4    23     Friday  \n316035    4    23     Friday  \n316038    4    23     Friday  \n\n[200 rows x 11 columns]",
      "text/html": "<div>\n<style scoped>\n    .dataframe tbody tr th:only-of-type {\n        vertical-align: middle;\n    }\n\n    .dataframe tbody tr th {\n        vertical-align: top;\n    }\n\n    .dataframe thead th {\n        text-align: right;\n    }\n</style>\n<table border=\"1\" class=\"dataframe\">\n  <thead>\n    <tr style=\"text-align: right;\">\n      <th></th>\n      <th>inc_number</th>\n      <th>occurred_on</th>\n      <th>ucr_crime_category</th>\n      <th>approx_address</th>\n      <th>zip</th>\n      <th>premise_type</th>\n      <th>year</th>\n      <th>month</th>\n      <th>day</th>\n      <th>hour</th>\n      <th>day_name</th>\n    </tr>\n  </thead>\n  <tbody>\n    <tr>\n      <th>315689</th>\n      <td>202000001450444</td>\n      <td>2020-09-02 17:31:00</td>\n      <td>AGGRAVATED ASSAULT</td>\n      <td>9200 N 19TH AVE</td>\n      <td>85021.0</td>\n      <td>APARTMENT</td>\n      <td>2020</td>\n      <td>9</td>\n      <td>2</td>\n      <td>17</td>\n      <td>Wednesday</td>\n    </tr>\n    <tr>\n      <th>315690</th>\n      <td>202000001450454</td>\n      <td>2020-09-02 17:33:00</td>\n      <td>LARCENY-THEFT</td>\n      <td>2600 N 27TH ST</td>\n      <td>85008.0</td>\n      <td>PARKING LOT</td>\n      <td>2020</td>\n      <td>9</td>\n      <td>2</td>\n      <td>17</td>\n      <td>Wednesday</td>\n    </tr>\n    <tr>\n      <th>315693</th>\n      <td>202000001450585</td>\n      <td>2020-09-02 17:55:00</td>\n      <td>BURGLARY</td>\n      <td>1500 W WILLETTA ST</td>\n      <td>85007.0</td>\n      <td>SINGLE FAMILY HOUSE</td>\n      <td>2020</td>\n      <td>9</td>\n      <td>2</td>\n      <td>17</td>\n      <td>Wednesday</td>\n    </tr>\n    <tr>\n      <th>315694</th>\n      <td>202000001454244</td>\n      <td>2020-09-02 18:00:00</td>\n      <td>LARCENY-THEFT</td>\n      <td>16800 N 14TH ST</td>\n      <td>85022.0</td>\n      <td>CONDO / TOWNHOUSE</td>\n      <td>2020</td>\n      <td>9</td>\n      <td>2</td>\n      <td>18</td>\n      <td>Wednesday</td>\n    </tr>\n    <tr>\n      <th>315695</th>\n      <td>202000001452783</td>\n      <td>2020-09-02 18:00:00</td>\n      <td>BURGLARY</td>\n      <td>3100 E GLENROSA AVE</td>\n      <td>85016.0</td>\n      <td>CONDO / TOWNHOUSE</td>\n      <td>2020</td>\n      <td>9</td>\n      <td>2</td>\n      <td>18</td>\n      <td>Wednesday</td>\n    </tr>\n    <tr>\n      <th>...</th>\n      <td>...</td>\n      <td>...</td>\n      <td>...</td>\n      <td>...</td>\n      <td>...</td>\n      <td>...</td>\n      <td>...</td>\n      <td>...</td>\n      <td>...</td>\n      <td>...</td>\n      <td>...</td>\n    </tr>\n    <tr>\n      <th>316028</th>\n      <td>202000001463110</td>\n      <td>2020-09-04 21:30:00</td>\n      <td>LARCENY-THEFT</td>\n      <td>2700 W BELL RD</td>\n      <td>85053.0</td>\n      <td>GROCERY / SUPER MARKET</td>\n      <td>2020</td>\n      <td>9</td>\n      <td>4</td>\n      <td>21</td>\n      <td>Friday</td>\n    </tr>\n    <tr>\n      <th>316032</th>\n      <td>202000001466504</td>\n      <td>2020-09-04 22:45:00</td>\n      <td>BURGLARY</td>\n      <td>2500 W MARYLAND AVE</td>\n      <td>85017.0</td>\n      <td>APARTMENT</td>\n      <td>2020</td>\n      <td>9</td>\n      <td>4</td>\n      <td>22</td>\n      <td>Friday</td>\n    </tr>\n    <tr>\n      <th>316033</th>\n      <td>202000001465121</td>\n      <td>2020-09-04 23:00:00</td>\n      <td>LARCENY-THEFT</td>\n      <td>2200 W ST ANNE AVE</td>\n      <td>85041.0</td>\n      <td>SINGLE FAMILY HOUSE</td>\n      <td>2020</td>\n      <td>9</td>\n      <td>4</td>\n      <td>23</td>\n      <td>Friday</td>\n    </tr>\n    <tr>\n      <th>316035</th>\n      <td>202080005914</td>\n      <td>2020-09-04 23:15:00</td>\n      <td>LARCENY-THEFT</td>\n      <td>13200 N SCOTTSDALE RD</td>\n      <td>85254.0</td>\n      <td>GAS / SERVICE STATION</td>\n      <td>2020</td>\n      <td>9</td>\n      <td>4</td>\n      <td>23</td>\n      <td>Friday</td>\n    </tr>\n    <tr>\n      <th>316038</th>\n      <td>202000001470900</td>\n      <td>2020-09-04 23:30:00</td>\n      <td>MOTOR VEHICLE THEFT</td>\n      <td>1100 E MCDOWELL RD</td>\n      <td>85006.0</td>\n      <td>VEHICLE</td>\n      <td>2020</td>\n      <td>9</td>\n      <td>4</td>\n      <td>23</td>\n      <td>Friday</td>\n    </tr>\n  </tbody>\n</table>\n<p>200 rows × 11 columns</p>\n</div>"
     },
     "metadata": {},
     "execution_count": 99
    }
   ],
   "source": [
    "df = clean_data(url)\n",
    "df"
   ]
  },
  {
   "cell_type": "code",
   "execution_count": 4,
   "metadata": {},
   "outputs": [],
   "source": [
    "import sqlalchemy"
   ]
  },
  {
   "cell_type": "code",
   "execution_count": 5,
   "metadata": {},
   "outputs": [],
   "source": [
    "import sqlalchemy\n",
    "from sqlalchemy import create_engine\n",
    "from sqlalchemy.orm import sessionmaker\n",
    "from sqlalchemy.ext.declarative import declarative_base\n",
    "from sqlalchemy import Column, Integer, String"
   ]
  },
  {
   "cell_type": "code",
   "execution_count": 6,
   "metadata": {},
   "outputs": [],
   "source": [
    "engine = sqlalchemy.create_engine(\"sqlite:///phxcalls.db\")\n",
    "\n",
    "Session = sessionmaker(bind=engine)\n",
    "session = Session()\n",
    "Base = declarative_base()"
   ]
  },
  {
   "cell_type": "code",
   "execution_count": 7,
   "metadata": {},
   "outputs": [],
   "source": [
    "class Pcall(Base,):\n",
    "    __tablename__ = 'calls'\n",
    "    \n",
    "    id = Column(Integer, primary_key=True)\n",
    "    inc_number = Column(Integer)\n",
    "    occurred_on = Column(String)\n",
    "    ucr_crime_category = Column(String)\n",
    "#     approx_address = Column(String)\n",
    "    zip = Column(String)\n",
    "    premise_type = Column(String)\n",
    "    year = Column(Integer, nullable=True)\n",
    "    \n",
    "    def __repr__(self):\n",
    "        return f\"<Pcalls name={self.ucr_crime_category}>\"\n",
    "    "
   ]
  },
  {
   "cell_type": "code",
   "execution_count": 8,
   "metadata": {},
   "outputs": [],
   "source": [
    "Base.metadata.create_all(engine)"
   ]
  },
  {
   "cell_type": "code",
   "execution_count": 9,
   "metadata": {},
   "outputs": [
    {
     "name": "stdout",
     "output_type": "stream",
     "text": [
      "{'inc_number': 201500002101405, 'occurred_on': Timestamp('2015-11-01 00:00:00'), 'ucr_crime_category': 'MOTOR VEHICLE THEFT', 'approx_address': '10200 W MEDLOCK AVE', 'zip': 85307, 'premise_type': 'SINGLE FAMILY HOUSE', 'year': 2015, 'month': 11, 'day': 1, 'hour': 0, 'day_name': 'Sunday'}\n",
      "{'inc_number': 201500002102668, 'occurred_on': Timestamp('2015-11-01 00:00:00'), 'ucr_crime_category': 'MOTOR VEHICLE THEFT', 'approx_address': '6900 W WOOD ST', 'zip': 85043, 'premise_type': 'SINGLE FAMILY HOUSE', 'year': 2015, 'month': 11, 'day': 1, 'hour': 0, 'day_name': 'Sunday'}\n",
      "{'inc_number': 201600000052855, 'occurred_on': Timestamp('2015-11-01 00:00:00'), 'ucr_crime_category': 'MOTOR VEHICLE THEFT', 'approx_address': 'N 43RD AVE & W CACTUS RD', 'zip': 85029, 'premise_type': 'SINGLE FAMILY HOUSE', 'year': 2015, 'month': 11, 'day': 1, 'hour': 0, 'day_name': 'Sunday'}\n",
      "{'inc_number': 201500002168686, 'occurred_on': Timestamp('2015-11-01 00:00:00'), 'ucr_crime_category': 'LARCENY-THEFT', 'approx_address': '1400 E HIGHLAND AVE', 'zip': 85014, 'premise_type': 'PARKING LOT', 'year': 2015, 'month': 11, 'day': 1, 'hour': 0, 'day_name': 'Sunday'}\n",
      "{'inc_number': 201700001603695, 'occurred_on': Timestamp('2015-11-01 00:00:00'), 'ucr_crime_category': 'RAPE', 'approx_address': '3800 W CAMELBACK RD', 'zip': 85019, 'premise_type': 'HOSPITAL', 'year': 2015, 'month': 11, 'day': 1, 'hour': 0, 'day_name': 'Sunday'}\n",
      "{'inc_number': 201500002102327, 'occurred_on': Timestamp('2015-11-01 00:00:00'), 'ucr_crime_category': 'LARCENY-THEFT', 'approx_address': '5100 N 15TH ST', 'zip': 85014, 'premise_type': 'APARTMENT', 'year': 2015, 'month': 11, 'day': 1, 'hour': 0, 'day_name': 'Sunday'}\n",
      "{'inc_number': 201500002103724, 'occurred_on': Timestamp('2015-11-01 00:00:00'), 'ucr_crime_category': 'DRUG OFFENSE', 'approx_address': '5400 W INDIAN SCHOOL RD', 'zip': 85031, 'premise_type': 'APARTMENT', 'year': 2015, 'month': 11, 'day': 1, 'hour': 0, 'day_name': 'Sunday'}\n",
      "{'inc_number': 201600000527709, 'occurred_on': Timestamp('2015-11-01 00:00:00'), 'ucr_crime_category': 'LARCENY-THEFT', 'approx_address': '3300 W CAMELBACK RD', 'zip': 85017, 'premise_type': 'PARKING LOT', 'year': 2015, 'month': 11, 'day': 1, 'hour': 0, 'day_name': 'Sunday'}\n",
      "{'inc_number': 201600000090387, 'occurred_on': Timestamp('2015-11-01 00:01:00'), 'ucr_crime_category': 'LARCENY-THEFT', 'approx_address': '19600 N 6TH PL', 'zip': 85024, 'premise_type': 'SINGLE FAMILY HOUSE', 'year': 2015, 'month': 11, 'day': 1, 'hour': 0, 'day_name': 'Sunday'}\n",
      "{'inc_number': 201500002334281, 'occurred_on': Timestamp('2015-11-01 00:01:00'), 'ucr_crime_category': 'MOTOR VEHICLE THEFT', 'approx_address': '1700 W DESERT COVE AVE', 'zip': 85029, 'premise_type': 'PARKING LOT', 'year': 2015, 'month': 11, 'day': 1, 'hour': 0, 'day_name': 'Sunday'}\n",
      "{'inc_number': 201600002077992, 'occurred_on': Timestamp('2015-11-01 00:01:00'), 'ucr_crime_category': 'LARCENY-THEFT', 'approx_address': '2500 W AUGUSTA AVE', 'zip': 85051, 'premise_type': 'PARKING LOT', 'year': 2015, 'month': 11, 'day': 1, 'hour': 0, 'day_name': 'Sunday'}\n",
      "{'inc_number': 201500002147335, 'occurred_on': Timestamp('2015-11-01 00:01:00'), 'ucr_crime_category': 'LARCENY-THEFT', 'approx_address': '11000 N 35TH AVE', 'zip': 85029, 'premise_type': 'VEHICLE', 'year': 2015, 'month': 11, 'day': 1, 'hour': 0, 'day_name': 'Sunday'}\n",
      "{'inc_number': 201600000042041, 'occurred_on': Timestamp('2015-11-01 00:01:00'), 'ucr_crime_category': 'MOTOR VEHICLE THEFT', 'approx_address': '4800 E DESERT COVE AVE', 'zip': 85254, 'premise_type': 'CONDO / TOWNHOUSE', 'year': 2015, 'month': 11, 'day': 1, 'hour': 0, 'day_name': 'Sunday'}\n",
      "{'inc_number': 201500002102467, 'occurred_on': Timestamp('2015-11-01 00:01:00'), 'ucr_crime_category': 'LARCENY-THEFT', 'approx_address': '6500 N 17TH AVE', 'zip': 85015, 'premise_type': 'VEHICLE', 'year': 2015, 'month': 11, 'day': 1, 'hour': 0, 'day_name': 'Sunday'}\n",
      "{'inc_number': 201600000623876, 'occurred_on': Timestamp('2015-11-01 00:01:00'), 'ucr_crime_category': 'LARCENY-THEFT', 'approx_address': '20200 N 6TH DR', 'zip': 85027, 'premise_type': 'SINGLE FAMILY HOUSE', 'year': 2015, 'month': 11, 'day': 1, 'hour': 0, 'day_name': 'Sunday'}\n",
      "{'inc_number': 201500002371588, 'occurred_on': Timestamp('2015-11-01 00:01:00'), 'ucr_crime_category': 'LARCENY-THEFT', 'approx_address': '3500 E PINCHOT AVE', 'zip': 85018, 'premise_type': 'HOSPITAL', 'year': 2015, 'month': 11, 'day': 1, 'hour': 0, 'day_name': 'Sunday'}\n",
      "{'inc_number': 201500002102534, 'occurred_on': Timestamp('2015-11-01 00:01:00'), 'ucr_crime_category': 'BURGLARY', 'approx_address': '3800 W HOLLY ST', 'zip': 85009, 'premise_type': 'SINGLE FAMILY HOUSE', 'year': 2015, 'month': 11, 'day': 1, 'hour': 0, 'day_name': 'Sunday'}\n",
      "{'inc_number': 201600000223791, 'occurred_on': Timestamp('2015-11-01 00:01:00'), 'ucr_crime_category': 'BURGLARY', 'approx_address': '4000 E MCDOWELL RD', 'zip': 85008, 'premise_type': 'STOREROOM/SHED (COMMERCIAL)', 'year': 2015, 'month': 11, 'day': 1, 'hour': 0, 'day_name': 'Sunday'}\n",
      "{'inc_number': 201500002326780, 'occurred_on': Timestamp('2015-11-01 00:01:00'), 'ucr_crime_category': 'BURGLARY', 'approx_address': '600 W BEVERLY LN', 'zip': 85023, 'premise_type': 'SINGLE FAMILY HOUSE', 'year': 2015, 'month': 11, 'day': 1, 'hour': 0, 'day_name': 'Sunday'}\n",
      "{'inc_number': 201600000575804, 'occurred_on': Timestamp('2015-11-01 00:01:00'), 'ucr_crime_category': 'LARCENY-THEFT', 'approx_address': '4600 W FREMONT RD', 'zip': 85339, 'premise_type': 'SINGLE FAMILY HOUSE', 'year': 2015, 'month': 11, 'day': 1, 'hour': 0, 'day_name': 'Sunday'}\n",
      "{'inc_number': 201500002391368, 'occurred_on': Timestamp('2015-11-01 00:01:00'), 'ucr_crime_category': 'LARCENY-THEFT', 'approx_address': '4300 E CORTEZ ST', 'zip': 85028, 'premise_type': 'SINGLE FAMILY HOUSE', 'year': 2015, 'month': 11, 'day': 1, 'hour': 0, 'day_name': 'Sunday'}\n",
      "{'inc_number': 201500002101675, 'occurred_on': Timestamp('2015-11-01 00:30:00'), 'ucr_crime_category': 'LARCENY-THEFT', 'approx_address': '4200 E WESTERN STAR BLVD', 'zip': 85044, 'premise_type': 'DRIVEWAY', 'year': 2015, 'month': 11, 'day': 1, 'hour': 0, 'day_name': 'Sunday'}\n",
      "{'inc_number': 201500002103050, 'occurred_on': Timestamp('2015-11-01 01:00:00'), 'ucr_crime_category': 'LARCENY-THEFT', 'approx_address': '4600 W MCDOWELL RD', 'zip': 85035, 'premise_type': 'VEHICLE', 'year': 2015, 'month': 11, 'day': 1, 'hour': 1, 'day_name': 'Sunday'}\n",
      "{'inc_number': 201500002103663, 'occurred_on': Timestamp('2015-11-01 01:00:00'), 'ucr_crime_category': 'LARCENY-THEFT', 'approx_address': '2100 W DARREL RD', 'zip': 85041, 'premise_type': 'SINGLE FAMILY HOUSE', 'year': 2015, 'month': 11, 'day': 1, 'hour': 1, 'day_name': 'Sunday'}\n",
      "{'inc_number': 201500002119698, 'occurred_on': Timestamp('2015-11-01 01:30:00'), 'ucr_crime_category': 'LARCENY-THEFT', 'approx_address': '7100 N 33RD AVE', 'zip': 85051, 'premise_type': 'SINGLE FAMILY HOUSE', 'year': 2015, 'month': 11, 'day': 1, 'hour': 1, 'day_name': 'Sunday'}\n",
      "{'inc_number': 201500002101758, 'occurred_on': Timestamp('2015-11-01 01:45:00'), 'ucr_crime_category': 'MOTOR VEHICLE THEFT', 'approx_address': '200 W FILLMORE ST', 'zip': 85003, 'premise_type': 'PARKING LOT', 'year': 2015, 'month': 11, 'day': 1, 'hour': 1, 'day_name': 'Sunday'}\n",
      "{'inc_number': 201500002105677, 'occurred_on': Timestamp('2015-11-01 02:00:00'), 'ucr_crime_category': 'AGGRAVATED ASSAULT', 'approx_address': '4100 N 51ST AVE', 'zip': 85031, 'premise_type': 'RESTAURANT', 'year': 2015, 'month': 11, 'day': 1, 'hour': 2, 'day_name': 'Sunday'}\n",
      "{'inc_number': 201500002101185, 'occurred_on': Timestamp('2015-11-01 02:00:00'), 'ucr_crime_category': 'MOTOR VEHICLE THEFT', 'approx_address': '3500 E AMBERWOOD DR', 'zip': 85048, 'premise_type': 'SINGLE FAMILY HOUSE', 'year': 2015, 'month': 11, 'day': 1, 'hour': 2, 'day_name': 'Sunday'}\n",
      "{'inc_number': 201510000015577, 'occurred_on': Timestamp('2015-11-01 02:00:00'), 'ucr_crime_category': 'AGGRAVATED ASSAULT', 'approx_address': '5000 E THOMAS RD', 'zip': 85018, 'premise_type': 'RESTAURANT', 'year': 2015, 'month': 11, 'day': 1, 'hour': 2, 'day_name': 'Sunday'}\n",
      "{'inc_number': 201500002103448, 'occurred_on': Timestamp('2015-11-01 02:00:00'), 'ucr_crime_category': 'MOTOR VEHICLE THEFT', 'approx_address': '8500 W MIAMI ST', 'zip': 85353, 'premise_type': 'STREET / ROADWAY / ALLEY / SIDEWALK', 'year': 2015, 'month': 11, 'day': 1, 'hour': 2, 'day_name': 'Sunday'}\n",
      "{'inc_number': 201500002100875, 'occurred_on': Timestamp('2015-11-01 02:38:00'), 'ucr_crime_category': 'BURGLARY', 'approx_address': '900 E INDIAN SCHOOL RD', 'zip': 85014, 'premise_type': 'FAST FOOD STORE', 'year': 2015, 'month': 11, 'day': 1, 'hour': 2, 'day_name': 'Sunday'}\n",
      "{'inc_number': 201500002117393, 'occurred_on': Timestamp('2015-11-01 03:00:00'), 'ucr_crime_category': 'MOTOR VEHICLE THEFT', 'approx_address': '1700 E MCLELLAN BLVD', 'zip': 85016, 'premise_type': 'SINGLE FAMILY HOUSE', 'year': 2015, 'month': 11, 'day': 1, 'hour': 3, 'day_name': 'Sunday'}\n",
      "{'inc_number': 201500002102927, 'occurred_on': Timestamp('2015-11-01 04:00:00'), 'ucr_crime_category': 'LARCENY-THEFT', 'approx_address': '17600 N 7TH ST', 'zip': 85022, 'premise_type': 'APARTMENT', 'year': 2015, 'month': 11, 'day': 1, 'hour': 4, 'day_name': 'Sunday'}\n",
      "{'inc_number': 201500002133436, 'occurred_on': Timestamp('2015-11-01 04:00:00'), 'ucr_crime_category': 'RAPE', 'approx_address': '7600 W WHITTON AVE', 'zip': 85033, 'premise_type': 'SINGLE FAMILY HOUSE', 'year': 2015, 'month': 11, 'day': 1, 'hour': 4, 'day_name': 'Sunday'}\n",
      "{'inc_number': 201500002101067, 'occurred_on': Timestamp('2015-11-01 04:12:00'), 'ucr_crime_category': 'MURDER AND NON-NEGLIGENT MANSLAUGHTER', 'approx_address': '00 N 67TH AVE', 'zip': 85043, 'premise_type': 'FENCED COMMERCIAL YARD', 'year': 2015, 'month': 11, 'day': 1, 'hour': 4, 'day_name': 'Sunday'}\n",
      "{'inc_number': 201500002126247, 'occurred_on': Timestamp('2015-11-01 05:00:00'), 'ucr_crime_category': 'BURGLARY', 'approx_address': '1700 W DESERT COVE AVE', 'zip': 85029, 'premise_type': 'APARTMENT', 'year': 2015, 'month': 11, 'day': 1, 'hour': 5, 'day_name': 'Sunday'}\n",
      "{'inc_number': 201500002101284, 'occurred_on': Timestamp('2015-11-01 05:38:00'), 'ucr_crime_category': 'MOTOR VEHICLE THEFT', 'approx_address': '8700 S 47TH LN', 'zip': 85339, 'premise_type': 'STREET / ROADWAY / ALLEY / SIDEWALK', 'year': 2015, 'month': 11, 'day': 1, 'hour': 5, 'day_name': 'Sunday'}\n",
      "{'inc_number': 201500002277994, 'occurred_on': Timestamp('2015-11-01 06:00:00'), 'ucr_crime_category': 'BURGLARY', 'approx_address': '2700 W NORTHERN AVE', 'zip': 85051, 'premise_type': 'STOREROOM/SHED (COMMERCIAL)', 'year': 2015, 'month': 11, 'day': 1, 'hour': 6, 'day_name': 'Sunday'}\n",
      "{'inc_number': 201600000127791, 'occurred_on': Timestamp('2015-11-01 06:00:00'), 'ucr_crime_category': 'LARCENY-THEFT', 'approx_address': '2100 E VIRGINIA AVE', 'zip': 85006, 'premise_type': 'SCHOOL-ELEMENTARY/SECONDARY', 'year': 2015, 'month': 11, 'day': 1, 'hour': 6, 'day_name': 'Sunday'}\n",
      "{'inc_number': 201500002101372, 'occurred_on': Timestamp('2015-11-01 06:10:00'), 'ucr_crime_category': 'AGGRAVATED ASSAULT', 'approx_address': '4200 N 12TH ST', 'zip': 85014, 'premise_type': 'PARKING LOT', 'year': 2015, 'month': 11, 'day': 1, 'hour': 6, 'day_name': 'Sunday'}\n",
      "{'inc_number': 201500002102369, 'occurred_on': Timestamp('2015-11-01 07:50:00'), 'ucr_crime_category': 'LARCENY-THEFT', 'approx_address': '3400 N 23RD AVE', 'zip': 85015, 'premise_type': 'SINGLE FAMILY HOUSE', 'year': 2015, 'month': 11, 'day': 1, 'hour': 7, 'day_name': 'Sunday'}\n",
      "{'inc_number': 201600000034740, 'occurred_on': Timestamp('2015-11-01 08:00:00'), 'ucr_crime_category': 'MOTOR VEHICLE THEFT', 'approx_address': '2500 W AUGUSTA AVE', 'zip': 85051, 'premise_type': 'FENCED RESIDENTIAL YARD', 'year': 2015, 'month': 11, 'day': 1, 'hour': 8, 'day_name': 'Sunday'}\n",
      "{'inc_number': 201500002302045, 'occurred_on': Timestamp('2015-11-01 08:00:00'), 'ucr_crime_category': 'LARCENY-THEFT', 'approx_address': '3200 W LINCOLN ST', 'zip': 85009, 'premise_type': 'GAS / SERVICE STATION', 'year': 2015, 'month': 11, 'day': 1, 'hour': 8, 'day_name': 'Sunday'}\n",
      "{'inc_number': 201500002332817, 'occurred_on': Timestamp('2015-11-01 08:00:00'), 'ucr_crime_category': 'LARCENY-THEFT', 'approx_address': '500 N 40TH AVE', 'zip': 85009, 'premise_type': 'PARKING LOT', 'year': 2015, 'month': 11, 'day': 1, 'hour': 8, 'day_name': 'Sunday'}\n",
      "{'inc_number': 201500002101781, 'occurred_on': Timestamp('2015-11-01 08:00:00'), 'ucr_crime_category': 'MOTOR VEHICLE THEFT', 'approx_address': '1600 W MCDOWELL RD', 'zip': 85007, 'premise_type': 'PARKING LOT', 'year': 2015, 'month': 11, 'day': 1, 'hour': 8, 'day_name': 'Sunday'}\n",
      "{'inc_number': 201500002161714, 'occurred_on': Timestamp('2015-11-01 08:00:00'), 'ucr_crime_category': 'BURGLARY', 'approx_address': '4300 N 66TH DR', 'zip': 85033, 'premise_type': 'SINGLE FAMILY HOUSE', 'year': 2015, 'month': 11, 'day': 1, 'hour': 8, 'day_name': 'Sunday'}\n",
      "{'inc_number': 201500002105056, 'occurred_on': Timestamp('2015-11-01 09:00:00'), 'ucr_crime_category': 'BURGLARY', 'approx_address': '2700 E BRILL ST', 'zip': 85008, 'premise_type': 'SINGLE FAMILY HOUSE', 'year': 2015, 'month': 11, 'day': 1, 'hour': 9, 'day_name': 'Sunday'}\n",
      "{'inc_number': 201500002403298, 'occurred_on': Timestamp('2015-11-01 09:00:00'), 'ucr_crime_category': 'BURGLARY', 'approx_address': '14800 S 25TH PL', 'zip': 85048, 'premise_type': 'SINGLE FAMILY HOUSE', 'year': 2015, 'month': 11, 'day': 1, 'hour': 9, 'day_name': 'Sunday'}\n",
      "{'inc_number': 201580008946, 'occurred_on': Timestamp('2015-11-01 09:14:00'), 'ucr_crime_category': 'BURGLARY', 'approx_address': '4700 W HARWELL RD', 'zip': 85339, 'premise_type': 'SINGLE FAMILY HOUSING', 'year': 2015, 'month': 11, 'day': 1, 'hour': 9, 'day_name': 'Sunday'}\n",
      "{'inc_number': 201500002101993, 'occurred_on': Timestamp('2015-11-01 09:52:00'), 'ucr_crime_category': 'DRUG OFFENSE', 'approx_address': '4200 N 72ND LN', 'zip': 85033, 'premise_type': 'STREET / ROADWAY / ALLEY / SIDEWALK', 'year': 2015, 'month': 11, 'day': 1, 'hour': 9, 'day_name': 'Sunday'}\n",
      "{'inc_number': 201510000015520, 'occurred_on': Timestamp('2015-11-01 10:00:00'), 'ucr_crime_category': 'LARCENY-THEFT', 'approx_address': '9400 N BLACK CANYON AC', 'zip': 85051, 'premise_type': 'HOTEL / MOTEL', 'year': 2015, 'month': 11, 'day': 1, 'hour': 10, 'day_name': 'Sunday'}\n",
      "{'inc_number': 201600000410761, 'occurred_on': Timestamp('2015-11-01 10:00:00'), 'ucr_crime_category': 'RAPE', 'approx_address': '6800 W INDIAN SCHOOL RD', 'zip': 85033, 'premise_type': 'SINGLE FAMILY HOUSE', 'year': 2015, 'month': 11, 'day': 1, 'hour': 10, 'day_name': 'Sunday'}\n",
      "{'inc_number': 201500002102655, 'occurred_on': Timestamp('2015-11-01 10:00:00'), 'ucr_crime_category': 'LARCENY-THEFT', 'approx_address': '2700 E BEARDSLEY RD', 'zip': 85050, 'premise_type': 'PARK / PLAYGROUND', 'year': 2015, 'month': 11, 'day': 1, 'hour': 10, 'day_name': 'Sunday'}\n",
      "{'inc_number': 201600001563987, 'occurred_on': Timestamp('2015-11-01 10:00:00'), 'ucr_crime_category': 'LARCENY-THEFT', 'approx_address': '100 E ELWOOD ST', 'zip': 85040, 'premise_type': 'UNKNOWN', 'year': 2015, 'month': 11, 'day': 1, 'hour': 10, 'day_name': 'Sunday'}\n",
      "{'inc_number': 201500002102199, 'occurred_on': Timestamp('2015-11-01 10:08:00'), 'ucr_crime_category': 'LARCENY-THEFT', 'approx_address': '16800 N TATUM BLVD', 'zip': 85254, 'premise_type': 'RETAIL BUSINESS', 'year': 2015, 'month': 11, 'day': 1, 'hour': 10, 'day_name': 'Sunday'}\n",
      "{'inc_number': 201500002116892, 'occurred_on': Timestamp('2015-11-01 10:30:00'), 'ucr_crime_category': 'BURGLARY', 'approx_address': '5100 N 99TH AVE', 'zip': 85307, 'premise_type': 'APARTMENT', 'year': 2015, 'month': 11, 'day': 1, 'hour': 10, 'day_name': 'Sunday'}\n",
      "{'inc_number': 201500002203195, 'occurred_on': Timestamp('2015-11-01 12:00:00'), 'ucr_crime_category': 'LARCENY-THEFT', 'approx_address': '5400 E DEER VALLEY DR', 'zip': 85054, 'premise_type': 'PARKING LOT', 'year': 2015, 'month': 11, 'day': 1, 'hour': 12, 'day_name': 'Sunday'}\n",
      "{'inc_number': 201600000348340, 'occurred_on': Timestamp('2015-11-01 12:00:00'), 'ucr_crime_category': 'LARCENY-THEFT', 'approx_address': '3800 S 103RD LN', 'zip': 85353, 'premise_type': 'SINGLE FAMILY HOUSE', 'year': 2015, 'month': 11, 'day': 1, 'hour': 12, 'day_name': 'Sunday'}\n",
      "{'inc_number': 201500002125823, 'occurred_on': Timestamp('2015-11-01 12:00:00'), 'ucr_crime_category': 'BURGLARY', 'approx_address': '11600 N TATUM BLVD', 'zip': 85028, 'premise_type': 'CONDO / TOWNHOUSE', 'year': 2015, 'month': 11, 'day': 1, 'hour': 12, 'day_name': 'Sunday'}\n",
      "{'inc_number': 201600000795753, 'occurred_on': Timestamp('2015-11-01 12:00:00'), 'ucr_crime_category': 'BURGLARY', 'approx_address': '11200 N 19TH AVE', 'zip': 85029, 'premise_type': 'RETAIL BUSINESS', 'year': 2015, 'month': 11, 'day': 1, 'hour': 12, 'day_name': 'Sunday'}\n",
      "{'inc_number': 201500002103253, 'occurred_on': Timestamp('2015-11-01 12:00:00'), 'ucr_crime_category': 'BURGLARY', 'approx_address': '1800 E EARLL DR', 'zip': 85016, 'premise_type': 'SINGLE FAMILY HOUSE', 'year': 2015, 'month': 11, 'day': 1, 'hour': 12, 'day_name': 'Sunday'}\n",
      "{'inc_number': 201600000632985, 'occurred_on': Timestamp('2015-11-01 12:00:00'), 'ucr_crime_category': 'MOTOR VEHICLE THEFT', 'approx_address': '3400 N 27TH AVE', 'zip': 85017, 'premise_type': 'RETAIL BUSINESS', 'year': 2015, 'month': 11, 'day': 1, 'hour': 12, 'day_name': 'Sunday'}\n",
      "{'inc_number': 201600000205695, 'occurred_on': Timestamp('2015-11-01 12:00:00'), 'ucr_crime_category': 'LARCENY-THEFT', 'approx_address': '1700 E MCDOWELL RD', 'zip': 85006, 'premise_type': 'PARKING LOT', 'year': 2015, 'month': 11, 'day': 1, 'hour': 12, 'day_name': 'Sunday'}\n",
      "{'inc_number': 201500002104405, 'occurred_on': Timestamp('2015-11-01 12:00:00'), 'ucr_crime_category': 'MOTOR VEHICLE THEFT', 'approx_address': '3600 N 35TH AVE', 'zip': 85017, 'premise_type': 'OFFICE / COMMERCIAL BUILDING', 'year': 2015, 'month': 11, 'day': 1, 'hour': 12, 'day_name': 'Sunday'}\n",
      "{'inc_number': 201500002109064, 'occurred_on': Timestamp('2015-11-01 12:00:00'), 'ucr_crime_category': 'MOTOR VEHICLE THEFT', 'approx_address': '4700 N BLACK CANYON AC', 'zip': 85015, 'premise_type': 'APARTMENT', 'year': 2015, 'month': 11, 'day': 1, 'hour': 12, 'day_name': 'Sunday'}\n",
      "{'inc_number': 201900000171681, 'occurred_on': Timestamp('2015-11-01 12:00:00'), 'ucr_crime_category': 'RAPE', 'approx_address': '2300 W GRAND AVE', 'zip': 85009, 'premise_type': 'OFFICE / COMMERCIAL BUILDING', 'year': 2015, 'month': 11, 'day': 1, 'hour': 12, 'day_name': 'Sunday'}\n",
      "{'inc_number': 201500002102704, 'occurred_on': Timestamp('2015-11-01 12:02:00'), 'ucr_crime_category': 'AGGRAVATED ASSAULT', 'approx_address': '6900 E CHAUNCEY LN', 'zip': 85054, 'premise_type': 'APARTMENT', 'year': 2015, 'month': 11, 'day': 1, 'hour': 12, 'day_name': 'Sunday'}\n",
      "{'inc_number': 201500002102781, 'occurred_on': Timestamp('2015-11-01 12:15:00'), 'ucr_crime_category': 'LARCENY-THEFT', 'approx_address': '2800 W MELVIN ST', 'zip': 85009, 'premise_type': 'APARTMENT', 'year': 2015, 'month': 11, 'day': 1, 'hour': 12, 'day_name': 'Sunday'}\n",
      "{'inc_number': 201500002261382, 'occurred_on': Timestamp('2015-11-01 13:00:00'), 'ucr_crime_category': 'LARCENY-THEFT', 'approx_address': '2500 W NORTHERN AVE', 'zip': 85051, 'premise_type': 'DEPARTMENT / DISCOUNT STORE', 'year': 2015, 'month': 11, 'day': 1, 'hour': 13, 'day_name': 'Sunday'}\n",
      "{'inc_number': 201500002111865, 'occurred_on': Timestamp('2015-11-01 13:00:00'), 'ucr_crime_category': 'LARCENY-THEFT', 'approx_address': '300 W MARIPOSA ST', 'zip': 85013, 'premise_type': 'APARTMENT', 'year': 2015, 'month': 11, 'day': 1, 'hour': 13, 'day_name': 'Sunday'}\n",
      "{'inc_number': 201500002341015, 'occurred_on': Timestamp('2015-11-01 13:00:00'), 'ucr_crime_category': 'MOTOR VEHICLE THEFT', 'approx_address': '2700 E OLD TOWER RD', 'zip': 85034, 'premise_type': 'AIRPORT', 'year': 2015, 'month': 11, 'day': 1, 'hour': 13, 'day_name': 'Sunday'}\n",
      "{'inc_number': 201500002105071, 'occurred_on': Timestamp('2015-11-01 13:00:00'), 'ucr_crime_category': 'LARCENY-THEFT', 'approx_address': '2500 W NOVAK WAY', 'zip': 85041, 'premise_type': 'BAR / LOUNG / NIGHT CLUB', 'year': 2015, 'month': 11, 'day': 1, 'hour': 13, 'day_name': 'Sunday'}\n",
      "{'inc_number': 201500002103318, 'occurred_on': Timestamp('2015-11-01 13:00:00'), 'ucr_crime_category': 'AGGRAVATED ASSAULT', 'approx_address': '3600 W GARFIELD ST', 'zip': 85009, 'premise_type': 'STREET / ROADWAY / ALLEY / SIDEWALK', 'year': 2015, 'month': 11, 'day': 1, 'hour': 13, 'day_name': 'Sunday'}\n",
      "{'inc_number': 201500002103035, 'occurred_on': Timestamp('2015-11-01 13:02:00'), 'ucr_crime_category': 'LARCENY-THEFT', 'approx_address': '4500 E THOMAS RD', 'zip': 85008, 'premise_type': 'RETAIL BUSINESS', 'year': 2015, 'month': 11, 'day': 1, 'hour': 13, 'day_name': 'Sunday'}\n",
      "{'inc_number': 201500002106910, 'occurred_on': Timestamp('2015-11-01 13:30:00'), 'ucr_crime_category': 'BURGLARY', 'approx_address': '6400 W MCDOWELL RD', 'zip': 85043, 'premise_type': 'APARTMENT', 'year': 2015, 'month': 11, 'day': 1, 'hour': 13, 'day_name': 'Sunday'}\n",
      "{'inc_number': 201500002103199, 'occurred_on': Timestamp('2015-11-01 13:33:00'), 'ucr_crime_category': 'ROBBERY', 'approx_address': '6000 S CENTRAL AVE', 'zip': 85042, 'premise_type': 'STREET / ROADWAY / ALLEY / SIDEWALK', 'year': 2015, 'month': 11, 'day': 1, 'hour': 13, 'day_name': 'Sunday'}\n",
      "{'inc_number': 201500002103290, 'occurred_on': Timestamp('2015-11-01 13:52:00'), 'ucr_crime_category': 'LARCENY-THEFT', 'approx_address': '2000 N 75TH AVE', 'zip': 85035, 'premise_type': 'RETAIL BUSINESS', 'year': 2015, 'month': 11, 'day': 1, 'hour': 13, 'day_name': 'Sunday'}\n",
      "{'inc_number': 201500002109090, 'occurred_on': Timestamp('2015-11-01 14:00:00'), 'ucr_crime_category': 'LARCENY-THEFT', 'approx_address': '100 E OCOTILLO RD', 'zip': 85012, 'premise_type': 'STREET / ROADWAY / ALLEY / SIDEWALK', 'year': 2015, 'month': 11, 'day': 1, 'hour': 14, 'day_name': 'Sunday'}\n",
      "{'inc_number': 201600002341895, 'occurred_on': Timestamp('2015-11-01 14:00:00'), 'ucr_crime_category': 'MOTOR VEHICLE THEFT', 'approx_address': '1000 N 24TH PL', 'zip': 85008, 'premise_type': 'GARAGE', 'year': 2015, 'month': 11, 'day': 1, 'hour': 14, 'day_name': 'Sunday'}\n",
      "{'inc_number': 201500002103583, 'occurred_on': Timestamp('2015-11-01 14:39:00'), 'ucr_crime_category': 'LARCENY-THEFT', 'approx_address': '5100 W MCDOWELL RD', 'zip': 85035, 'premise_type': 'GROCERY / SUPER MARKET', 'year': 2015, 'month': 11, 'day': 1, 'hour': 14, 'day_name': 'Sunday'}\n",
      "{'inc_number': 201500002103625, 'occurred_on': Timestamp('2015-11-01 14:48:00'), 'ucr_crime_category': 'AGGRAVATED ASSAULT', 'approx_address': '2600 N 73RD GLN', 'zip': 85035, 'premise_type': 'OPEN SPACE / DESERT', 'year': 2015, 'month': 11, 'day': 1, 'hour': 14, 'day_name': 'Sunday'}\n",
      "{'inc_number': 201500002125373, 'occurred_on': Timestamp('2015-11-01 15:00:00'), 'ucr_crime_category': 'MOTOR VEHICLE THEFT', 'approx_address': '1000 W TONOPAH DR', 'zip': 85027, 'premise_type': 'SINGLE FAMILY HOUSE', 'year': 2015, 'month': 11, 'day': 1, 'hour': 15, 'day_name': 'Sunday'}\n",
      "{'inc_number': 201500002104549, 'occurred_on': Timestamp('2015-11-01 15:00:00'), 'ucr_crime_category': 'LARCENY-THEFT', 'approx_address': '1800 W BELL RD', 'zip': 85023, 'premise_type': 'PARKING LOT', 'year': 2015, 'month': 11, 'day': 1, 'hour': 15, 'day_name': 'Sunday'}\n"
     ]
    }
   ],
   "source": [
    "new_dict = df.to_dict(orient='records')\n",
    "for each in new_dict:\n",
    "    print(each)\n"
   ]
  },
  {
   "cell_type": "code",
   "execution_count": 46,
   "metadata": {},
   "outputs": [
    {
     "output_type": "error",
     "ename": "NameError",
     "evalue": "name 'df' is not defined",
     "traceback": [
      "\u001b[1;31m---------------------------------------------------------------------------\u001b[0m",
      "\u001b[1;31mNameError\u001b[0m                                 Traceback (most recent call last)",
      "\u001b[1;32m<ipython-input-46-3fd4b1c7e3be>\u001b[0m in \u001b[0;36m<module>\u001b[1;34m\u001b[0m\n\u001b[1;32m----> 1\u001b[1;33m \u001b[0mnew_json\u001b[0m \u001b[1;33m=\u001b[0m \u001b[0mdf\u001b[0m\u001b[1;33m.\u001b[0m\u001b[0mto_json\u001b[0m\u001b[1;33m(\u001b[0m\u001b[0morient\u001b[0m\u001b[1;33m=\u001b[0m\u001b[1;34m'records'\u001b[0m\u001b[1;33m)\u001b[0m\u001b[1;33m\u001b[0m\u001b[1;33m\u001b[0m\u001b[0m\n\u001b[0m\u001b[0;32m      2\u001b[0m \u001b[0mnew_json\u001b[0m\u001b[1;33m\u001b[0m\u001b[1;33m\u001b[0m\u001b[0m\n",
      "\u001b[1;31mNameError\u001b[0m: name 'df' is not defined"
     ]
    }
   ],
   "source": [
    "new_json = df.to_json(orient='records')\n",
    "new_json"
   ]
  },
  {
   "cell_type": "code",
   "execution_count": 69,
   "metadata": {},
   "outputs": [
    {
     "output_type": "execute_result",
     "data": {
      "text/plain": "             inc_number         occurred_on   ucr_crime_category  \\\n315859  202000001461302 2020-09-03 17:00:00        LARCENY-THEFT   \n315860  202000001455764 2020-09-03 17:08:00        LARCENY-THEFT   \n315861  202000001468171 2020-09-03 17:30:00  MOTOR VEHICLE THEFT   \n315862  202000001455965 2020-09-03 17:30:00   AGGRAVATED ASSAULT   \n315864  202000001465815 2020-09-03 18:00:00                 RAPE   \n\n                  approx_address      zip                 premise_type  year  \\\n315859             1800 E OAK ST  85006.0                  PARKING LOT  2020   \n315860             700 E BELL RD  85022.0              SPECIALTY STORE  2020   \n315861            1400 S 3RD AVE  85003.0                    APARTMENT  2020   \n315862       2600 W GLENDALE AVE  85017.0  STREET / ROADWAY / SIDEWALK  2020   \n315864  11200 N BLACK CANYON FWY  85029.0                HOTEL / MOTEL  2020   \n\n        month  day  hour  day_name  \n315859      9    3    17  Thursday  \n315860      9    3    17  Thursday  \n315861      9    3    17  Thursday  \n315862      9    3    17  Thursday  \n315864      9    3    18  Thursday  ",
      "text/html": "<div>\n<style scoped>\n    .dataframe tbody tr th:only-of-type {\n        vertical-align: middle;\n    }\n\n    .dataframe tbody tr th {\n        vertical-align: top;\n    }\n\n    .dataframe thead th {\n        text-align: right;\n    }\n</style>\n<table border=\"1\" class=\"dataframe\">\n  <thead>\n    <tr style=\"text-align: right;\">\n      <th></th>\n      <th>inc_number</th>\n      <th>occurred_on</th>\n      <th>ucr_crime_category</th>\n      <th>approx_address</th>\n      <th>zip</th>\n      <th>premise_type</th>\n      <th>year</th>\n      <th>month</th>\n      <th>day</th>\n      <th>hour</th>\n      <th>day_name</th>\n    </tr>\n  </thead>\n  <tbody>\n    <tr>\n      <th>315859</th>\n      <td>202000001461302</td>\n      <td>2020-09-03 17:00:00</td>\n      <td>LARCENY-THEFT</td>\n      <td>1800 E OAK ST</td>\n      <td>85006.0</td>\n      <td>PARKING LOT</td>\n      <td>2020</td>\n      <td>9</td>\n      <td>3</td>\n      <td>17</td>\n      <td>Thursday</td>\n    </tr>\n    <tr>\n      <th>315860</th>\n      <td>202000001455764</td>\n      <td>2020-09-03 17:08:00</td>\n      <td>LARCENY-THEFT</td>\n      <td>700 E BELL RD</td>\n      <td>85022.0</td>\n      <td>SPECIALTY STORE</td>\n      <td>2020</td>\n      <td>9</td>\n      <td>3</td>\n      <td>17</td>\n      <td>Thursday</td>\n    </tr>\n    <tr>\n      <th>315861</th>\n      <td>202000001468171</td>\n      <td>2020-09-03 17:30:00</td>\n      <td>MOTOR VEHICLE THEFT</td>\n      <td>1400 S 3RD AVE</td>\n      <td>85003.0</td>\n      <td>APARTMENT</td>\n      <td>2020</td>\n      <td>9</td>\n      <td>3</td>\n      <td>17</td>\n      <td>Thursday</td>\n    </tr>\n    <tr>\n      <th>315862</th>\n      <td>202000001455965</td>\n      <td>2020-09-03 17:30:00</td>\n      <td>AGGRAVATED ASSAULT</td>\n      <td>2600 W GLENDALE AVE</td>\n      <td>85017.0</td>\n      <td>STREET / ROADWAY / SIDEWALK</td>\n      <td>2020</td>\n      <td>9</td>\n      <td>3</td>\n      <td>17</td>\n      <td>Thursday</td>\n    </tr>\n    <tr>\n      <th>315864</th>\n      <td>202000001465815</td>\n      <td>2020-09-03 18:00:00</td>\n      <td>RAPE</td>\n      <td>11200 N BLACK CANYON FWY</td>\n      <td>85029.0</td>\n      <td>HOTEL / MOTEL</td>\n      <td>2020</td>\n      <td>9</td>\n      <td>3</td>\n      <td>18</td>\n      <td>Thursday</td>\n    </tr>\n  </tbody>\n</table>\n</div>"
     },
     "metadata": {},
     "execution_count": 69
    }
   ],
   "source": [
    "df.head()"
   ]
  },
  {
   "cell_type": "code",
   "execution_count": 134,
   "metadata": {
    "tags": []
   },
   "outputs": [
    {
     "output_type": "execute_result",
     "data": {
      "text/plain": "datetime.timedelta(days=7)"
     },
     "metadata": {},
     "execution_count": 134
    }
   ],
   "source": [
    "today = datetime.datetime.today().strftime('%Y-%m-%d')\n",
    "datetime.timedelta(7)\n",
    "\n"
   ]
  },
  {
   "cell_type": "code",
   "execution_count": 72,
   "metadata": {},
   "outputs": [
    {
     "output_type": "execute_result",
     "data": {
      "text/plain": "datetime.datetime(2020, 9, 11, 14, 32, 50, 10790)"
     },
     "metadata": {},
     "execution_count": 72
    }
   ],
   "source": [
    "today"
   ]
  },
  {
   "cell_type": "code",
   "execution_count": 74,
   "metadata": {},
   "outputs": [
    {
     "output_type": "error",
     "ename": "SyntaxError",
     "evalue": "invalid syntax (<ipython-input-74-03a69f4bc3c3>, line 2)",
     "traceback": [
      "\u001b[1;36m  File \u001b[1;32m\"<ipython-input-74-03a69f4bc3c3>\"\u001b[1;36m, line \u001b[1;32m2\u001b[0m\n\u001b[1;33m    if df.occurred_on = today:\u001b[0m\n\u001b[1;37m                      ^\u001b[0m\n\u001b[1;31mSyntaxError\u001b[0m\u001b[1;31m:\u001b[0m invalid syntax\n"
     ]
    }
   ],
   "source": [
    "for row in df:\n",
    "    if df.occurred_on = today:\n",
    "        print(row)"
   ]
  },
  {
   "cell_type": "code",
   "execution_count": 79,
   "metadata": {
    "tags": []
   },
   "outputs": [
    {
     "output_type": "error",
     "ename": "AttributeError",
     "evalue": "'str' object has no attribute 'occurred_on'",
     "traceback": [
      "\u001b[1;31m---------------------------------------------------------------------------\u001b[0m",
      "\u001b[1;31mAttributeError\u001b[0m                            Traceback (most recent call last)",
      "\u001b[1;32m<ipython-input-79-1c365eb9a027>\u001b[0m in \u001b[0;36m<module>\u001b[1;34m\u001b[0m\n\u001b[0;32m      1\u001b[0m \u001b[1;32mfor\u001b[0m \u001b[0mrow\u001b[0m \u001b[1;32min\u001b[0m \u001b[0mdf\u001b[0m\u001b[1;33m:\u001b[0m\u001b[1;33m\u001b[0m\u001b[1;33m\u001b[0m\u001b[0m\n\u001b[1;32m----> 2\u001b[1;33m     \u001b[0mprint\u001b[0m\u001b[1;33m(\u001b[0m\u001b[0mrow\u001b[0m\u001b[1;33m.\u001b[0m\u001b[0moccurred_on\u001b[0m\u001b[1;33m)\u001b[0m\u001b[1;33m\u001b[0m\u001b[1;33m\u001b[0m\u001b[0m\n\u001b[0m",
      "\u001b[1;31mAttributeError\u001b[0m: 'str' object has no attribute 'occurred_on'"
     ]
    }
   ],
   "source": []
  },
  {
   "cell_type": "code",
   "execution_count": 146,
   "metadata": {},
   "outputs": [
    {
     "output_type": "error",
     "ename": "NameError",
     "evalue": "name 'engine' is not defined",
     "traceback": [
      "\u001b[1;31m---------------------------------------------------------------------------\u001b[0m",
      "\u001b[1;31mNameError\u001b[0m                                 Traceback (most recent call last)",
      "\u001b[1;32m<ipython-input-146-e0c59bb89a10>\u001b[0m in \u001b[0;36m<module>\u001b[1;34m\u001b[0m\n\u001b[0;32m      1\u001b[0m df.to_sql(\n\u001b[0;32m      2\u001b[0m     \u001b[1;34m\"police\"\u001b[0m\u001b[1;33m,\u001b[0m\u001b[1;33m\u001b[0m\u001b[1;33m\u001b[0m\u001b[0m\n\u001b[1;32m----> 3\u001b[1;33m     \u001b[0mengine\u001b[0m\u001b[1;33m,\u001b[0m\u001b[1;33m\u001b[0m\u001b[1;33m\u001b[0m\u001b[0m\n\u001b[0m\u001b[0;32m      4\u001b[0m     \u001b[0mif_exists\u001b[0m\u001b[1;33m=\u001b[0m\u001b[1;34m'replace'\u001b[0m\u001b[1;33m,\u001b[0m\u001b[1;33m\u001b[0m\u001b[1;33m\u001b[0m\u001b[0m\n\u001b[0;32m      5\u001b[0m     )\n",
      "\u001b[1;31mNameError\u001b[0m: name 'engine' is not defined"
     ]
    }
   ],
   "source": [
    "df.to_sql(\n",
    "    \"police\",\n",
    "    engine,\n",
    "    if_exists='replace',\n",
    "    )\n"
   ]
  },
  {
   "cell_type": "code",
   "execution_count": null,
   "metadata": {},
   "outputs": [],
   "source": []
  }
 ],
 "metadata": {
  "kernelspec": {
   "display_name": "Python 3.8.5 64-bit",
   "language": "python",
   "name": "python_defaultSpec_1599857420567"
  },
  "language_info": {
   "codemirror_mode": {
    "name": "ipython",
    "version": 3
   },
   "file_extension": ".py",
   "mimetype": "text/x-python",
   "name": "python",
   "nbconvert_exporter": "python",
   "pygments_lexer": "ipython3",
   "version": "3.8.5-final"
  }
 },
 "nbformat": 4,
 "nbformat_minor": 4
}