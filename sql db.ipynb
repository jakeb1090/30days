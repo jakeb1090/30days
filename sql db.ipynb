{
 "metadata": {
  "language_info": {
   "codemirror_mode": {
    "name": "ipython",
    "version": 3
   },
   "file_extension": ".py",
   "mimetype": "text/x-python",
   "name": "python",
   "nbconvert_exporter": "python",
   "pygments_lexer": "ipython3",
   "version": "3.8.5-final"
  },
  "orig_nbformat": 2,
  "kernelspec": {
   "name": "python_defaultSpec_1599775718438",
   "display_name": "Python 3.8.5 64-bit"
  }
 },
 "nbformat": 4,
 "nbformat_minor": 2,
 "cells": [
  {
   "cell_type": "code",
   "execution_count": 1,
   "metadata": {},
   "outputs": [],
   "source": [
    "import sqlalchemy\n",
    "import pickle\n",
    "import pandas as pd"
   ]
  },
  {
   "cell_type": "code",
   "execution_count": 2,
   "metadata": {},
   "outputs": [
    {
     "output_type": "execute_result",
     "data": {
      "text/plain": "'unknown'"
     },
     "metadata": {},
     "execution_count": 2
    }
   ],
   "source": [
    "\n",
    "class Movie:\n",
    "    name = 'unknown'\n",
    "    genre = \"Action\"\n",
    "    year = None\n",
    "\n",
    "movie_obj = Movie()\n",
    "movie_obj.name"
   ]
  },
  {
   "cell_type": "code",
   "execution_count": 3,
   "metadata": {},
   "outputs": [
    {
     "output_type": "execute_result",
     "data": {
      "text/plain": "'Interstellar'"
     },
     "metadata": {},
     "execution_count": 3
    }
   ],
   "source": [
    "from dataclasses import dataclass\n",
    "\n",
    "@dataclass\n",
    "class Movie:\n",
    "    name:str = 'unknown'\n",
    "    genre:str = \"Action\"\n",
    "    year:int = None\n",
    "\n",
    "movie_obj = Movie(name=\"Interstellar\")\n",
    "movie_obj.name"
   ]
  },
  {
   "cell_type": "code",
   "execution_count": 16,
   "metadata": {
    "tags": []
   },
   "outputs": [
    {
     "output_type": "stream",
     "name": "stdout",
     "text": "Help on function dataclass in module dataclasses:\n\ndataclass(cls=None, /, *, init=True, repr=True, eq=True, order=False, unsafe_hash=False, frozen=False)\n    Returns the same class as was passed in, with dunder methods\n    added based on the fields defined in the class.\n    \n    Examines PEP 526 __annotations__ to determine fields.\n    \n    If init is true, an __init__() method is added to the class. If\n    repr is true, a __repr__() method is added. If order is true, rich\n    comparison dunder methods are added. If unsafe_hash is true, a\n    __hash__() method function is added. If frozen is true, fields may\n    not be assigned to after instance creation.\n\n"
    }
   ],
   "source": []
  },
  {
   "cell_type": "code",
   "execution_count": 4,
   "metadata": {},
   "outputs": [],
   "source": [
    "data = [{\n",
    "    \"name\": \"interstellar\",\n",
    "    \"genre\": \"sci-fi\"\n",
    "},\n",
    "{\n",
    "    \"name\": \"The Martian\",\n",
    "    \"genre\": \"sci-fi\"\n",
    "},\n",
    "{\n",
    "    \"name\": \"Arrival\",\n",
    "    \"genre\": \"sci-fi\"\n",
    "}\n",
    "]\n"
   ]
  },
  {
   "cell_type": "code",
   "execution_count": 5,
   "metadata": {},
   "outputs": [
    {
     "output_type": "execute_result",
     "data": {
      "text/plain": "           name   genre\n0  interstellar  sci-fi\n1   The Martian  sci-fi\n2       Arrival  sci-fi",
      "text/html": "<div>\n<style scoped>\n    .dataframe tbody tr th:only-of-type {\n        vertical-align: middle;\n    }\n\n    .dataframe tbody tr th {\n        vertical-align: top;\n    }\n\n    .dataframe thead th {\n        text-align: right;\n    }\n</style>\n<table border=\"1\" class=\"dataframe\">\n  <thead>\n    <tr style=\"text-align: right;\">\n      <th></th>\n      <th>name</th>\n      <th>genre</th>\n    </tr>\n  </thead>\n  <tbody>\n    <tr>\n      <th>0</th>\n      <td>interstellar</td>\n      <td>sci-fi</td>\n    </tr>\n    <tr>\n      <th>1</th>\n      <td>The Martian</td>\n      <td>sci-fi</td>\n    </tr>\n    <tr>\n      <th>2</th>\n      <td>Arrival</td>\n      <td>sci-fi</td>\n    </tr>\n  </tbody>\n</table>\n</div>"
     },
     "metadata": {},
     "execution_count": 5
    }
   ],
   "source": [
    "df = pd.DataFrame(data)\n",
    "df"
   ]
  },
  {
   "cell_type": "code",
   "execution_count": 6,
   "metadata": {},
   "outputs": [],
   "source": [
    "import sqlalchemy\n",
    "from sqlalchemy import create_engine\n",
    "from sqlalchemy.orm import sessionmaker"
   ]
  },
  {
   "cell_type": "code",
   "execution_count": 7,
   "metadata": {},
   "outputs": [],
   "source": [
    "#decide on engine\n",
    "engine = create_engine(\"sqlite:///app.db\") #name of database app.db\n"
   ]
  },
  {
   "cell_type": "code",
   "execution_count": 8,
   "metadata": {},
   "outputs": [],
   "source": [
    "#make session\n",
    "#create session class\n",
    "\n",
    "Session = sessionmaker(bind=engine)\n",
    "my_sess = Session()"
   ]
  },
  {
   "cell_type": "code",
   "execution_count": 9,
   "metadata": {},
   "outputs": [],
   "source": [
    "#turn Movie class into database table!!\n",
    "class Movie:\n",
    "    name:str = 'unknown'\n",
    "    genre:str = \"Action\"\n",
    "    year:int = None"
   ]
  },
  {
   "cell_type": "code",
   "execution_count": 10,
   "metadata": {},
   "outputs": [],
   "source": [
    "#bring in declaratve base\n",
    "from sqlalchemy.ext.declarative import declarative_base\n",
    "\n",
    "Base = declarative_base()"
   ]
  },
  {
   "cell_type": "code",
   "execution_count": 11,
   "metadata": {},
   "outputs": [],
   "source": [
    "from sqlalchemy import Column, Integer, String\n",
    "\n",
    "class Movie(Base):\n",
    "    __tablename__ = \"movies\"\n",
    "    \n",
    "    id = Column(Integer, primary_key=True)\n",
    "    name = Column(String) #'unknown'\n",
    "    genre = Column(String) #\"Action\"\n",
    "    year = Column(Integer, nullable=True) #None\n",
    "\n",
    "    #add str representation of the model\n",
    "    def __repr__(self):\n",
    "        return f\"<Movie name={self.name}>\"\n",
    "\n",
    "    "
   ]
  },
  {
   "cell_type": "code",
   "execution_count": 25,
   "metadata": {},
   "outputs": [],
   "source": [
    "#ready to add ALL model/tabble to databse...\n",
    "Base.metadata.create_all(engine)\n"
   ]
  },
  {
   "cell_type": "code",
   "execution_count": 14,
   "metadata": {},
   "outputs": [
    {
     "output_type": "execute_result",
     "data": {
      "text/plain": "'Interstellar'"
     },
     "metadata": {},
     "execution_count": 14
    }
   ],
   "source": [
    "#add entry to database\n",
    "movie_obj = Movie(name=\"Interstellar\", genre=\"sci-fi\")\n",
    "movie_obj.name"
   ]
  },
  {
   "cell_type": "code",
   "execution_count": 22,
   "metadata": {},
   "outputs": [
    {
     "output_type": "execute_result",
     "data": {
      "text/plain": "3"
     },
     "metadata": {},
     "execution_count": 22
    }
   ],
   "source": [
    "#then add entry to databse\n",
    "my_sess.add(movie_obj) #prepare to save\n",
    "my_sess.commit() #actually save\n",
    "movie_obj2.id"
   ]
  },
  {
   "cell_type": "markdown",
   "metadata": {},
   "source": [
    "\n",
    "movie_obj2 = Movie(name=\"The Martian\", genre=\"sci-fi\")\n",
    "my_sess.add(movie_obj2)\n",
    "my_sess.commit()\n",
    "my_sess.id"
   ]
  },
  {
   "cell_type": "code",
   "execution_count": 24,
   "metadata": {},
   "outputs": [
    {
     "output_type": "execute_result",
     "data": {
      "text/plain": "4"
     },
     "metadata": {},
     "execution_count": 24
    }
   ],
   "source": [
    "movie_obj3 = Movie(name=\"Inception\", genre=\"sci-fi\")\n",
    "my_sess.add(movie_obj3)\n",
    "my_sess.commit()\n",
    "movie_obj3.id"
   ]
  },
  {
   "cell_type": "code",
   "execution_count": 26,
   "metadata": {},
   "outputs": [],
   "source": [
    "##CRUD##\n",
    "# create"
   ]
  },
  {
   "cell_type": "code",
   "execution_count": 29,
   "metadata": {},
   "outputs": [],
   "source": [
    "Session = sessionmaker(bind=engine)\n",
    "session = Session()"
   ]
  },
  {
   "cell_type": "code",
   "execution_count": 54,
   "metadata": {
    "tags": []
   },
   "outputs": [
    {
     "output_type": "stream",
     "name": "stdout",
     "text": "<Movie name=Inception>\n"
    }
   ],
   "source": [
    "#retreive\n",
    "#get 1 item\n",
    "movie_1 = session.query(Movie).get(4) #id\n",
    "print(movie_1)"
   ]
  },
  {
   "cell_type": "code",
   "execution_count": 37,
   "metadata": {},
   "outputs": [
    {
     "output_type": "execute_result",
     "data": {
      "text/plain": "[<Movie name=Interstellar>,\n <Movie name=The Martian>,\n <Movie name=The Martian>,\n <Movie name=Inception>]"
     },
     "metadata": {},
     "execution_count": 37
    }
   ],
   "source": [
    "#list\n",
    "#filter database by a value\n",
    "qs = session.query(Movie).all() #queryset\n",
    "qs"
   ]
  },
  {
   "cell_type": "code",
   "execution_count": 41,
   "metadata": {},
   "outputs": [
    {
     "output_type": "execute_result",
     "data": {
      "text/plain": "[<Movie name=The Martian>, <Movie name=The Martian>]"
     },
     "metadata": {},
     "execution_count": 41
    }
   ],
   "source": [
    "#list and filter by column value (name)\n",
    "qs = session.query(Movie).filter_by(name=\"The Martian\").all()\n",
    "qs"
   ]
  },
  {
   "cell_type": "code",
   "execution_count": 43,
   "metadata": {},
   "outputs": [
    {
     "output_type": "execute_result",
     "data": {
      "text/plain": "[<Movie name=Inception>]"
     },
     "metadata": {},
     "execution_count": 43
    }
   ],
   "source": [
    "#list and filter by colunn value 'containing'\n",
    "qs = session.query(Movie).filter(Movie.name.contains(\"ince\")).all()\n",
    "qs"
   ]
  },
  {
   "cell_type": "code",
   "execution_count": 48,
   "metadata": {
    "tags": []
   },
   "outputs": [
    {
     "output_type": "stream",
     "name": "stdout",
     "text": "[<Movie name=Inception>]\n"
    }
   ],
   "source": [
    "my_query = input(\"what are you looking for?\") or \"unknown\"\n",
    "qs = session.query(Movie).filter(Movie.name.contains(\"ince\")).all()\n",
    "print(qs)"
   ]
  },
  {
   "cell_type": "code",
   "execution_count": 55,
   "metadata": {},
   "outputs": [],
   "source": [
    "#add description\n",
    "movie_a = session.query(Movie).get(4)\n",
    "movie_a.description = \"dream within a dream\""
   ]
  },
  {
   "cell_type": "code",
   "execution_count": 58,
   "metadata": {},
   "outputs": [],
   "source": [
    "##UPDATE##\n",
    "session.commit()"
   ]
  },
  {
   "cell_type": "code",
   "execution_count": 64,
   "metadata": {},
   "outputs": [],
   "source": [
    "##delete##\n",
    "#get it and call delete on it\n",
    "movie_a = session.query(Movie).get(1)\n",
    "session.delete(movie_a)\n",
    "session.commit()\n",
    "session.flush()\n"
   ]
  },
  {
   "cell_type": "code",
   "execution_count": 67,
   "metadata": {},
   "outputs": [
    {
     "output_type": "execute_result",
     "data": {
      "text/plain": "[<Movie name=The Martian>, <Movie name=The Martian>, <Movie name=Inception>]"
     },
     "metadata": {},
     "execution_count": 67
    }
   ],
   "source": [
    "list  = session.query(Movie).all()\n",
    "list"
   ]
  },
  {
   "cell_type": "code",
   "execution_count": 69,
   "metadata": {
    "tags": []
   },
   "outputs": [
    {
     "output_type": "stream",
     "name": "stderr",
     "text": "'sqlacodegen' is not recognized as an internal or external command,\noperable program or batch file.\n"
    }
   ],
   "source": [
    "!sqlacodegen sqlite://app2.db"
   ]
  }
 ]
}